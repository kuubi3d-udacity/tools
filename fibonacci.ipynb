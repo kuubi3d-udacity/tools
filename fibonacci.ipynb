{
  "nbformat": 4,
  "nbformat_minor": 0,
  "metadata": {
    "colab": {
      "name": "Untitled0.ipynb",
      "provenance": [],
      "authorship_tag": "ABX9TyO/1jDAz21pWXKC9qg5bDcO",
      "include_colab_link": true
    },
    "kernelspec": {
      "name": "python3",
      "display_name": "Python 3"
    }
  },
  "cells": [
    {
      "cell_type": "markdown",
      "metadata": {
        "id": "view-in-github",
        "colab_type": "text"
      },
      "source": [
        "<a href=\"https://colab.research.google.com/github/kuubi3d-udacity/tools/blob/main/fibonacci.ipynb\" target=\"_parent\"><img src=\"https://colab.research.google.com/assets/colab-badge.svg\" alt=\"Open In Colab\"/></a>"
      ]
    },
    {
      "cell_type": "code",
      "metadata": {
        "id": "0vjLqgRuItD9"
      },
      "source": [
        ""
      ],
      "execution_count": null,
      "outputs": []
    },
    {
      "cell_type": "code",
      "metadata": {
        "id": "zWErBxCbI5xw"
      },
      "source": [
        "from google.colab import drive\n",
        "drive.mount('/content/drive')\n",
        "\n",
        "import math\n",
        "import turtle\n",
        "\n",
        "def fiboPlot(n): \n",
        "    a = 0\n",
        "    b = 1\n",
        "    square_a = a \n",
        "    square_b = b \n",
        "  \n",
        "    # Setting the colour of the plotting pen to blue \n",
        "    x.pencolor(\"blue\") \n",
        "  \n",
        "    # Drawing the first square \n",
        "    x.forward(b * factor) \n",
        "    x.left(90) \n",
        "    x.forward(b * factor) \n",
        "    x.left(90) \n",
        "    x.forward(b * factor) \n",
        "    x.left(90) \n",
        "    x.forward(b * factor) \n",
        "  \n",
        "    # Proceeding in the Fibonacci Series \n",
        "    temp = square_b \n",
        "    square_b = square_b + square_a \n",
        "    square_a = temp \n",
        "      \n",
        "    # Drawing the rest of the squares \n",
        "    for i in range(1, n): \n",
        "        x.backward(square_a * factor) \n",
        "        x.right(90) \n",
        "        x.forward(square_b * factor) \n",
        "        x.left(90) \n",
        "        x.forward(square_b * factor) \n",
        "        x.left(90) \n",
        "        x.forward(square_b * factor) \n",
        "  \n",
        "        # Proceeding in the Fibonacci Series \n",
        "        temp = square_b \n",
        "        square_b = square_b + square_a \n",
        "        square_a = temp \n",
        "  \n",
        "    # Bringing the pen to starting point of the spiral plot \n",
        "    x.penup() \n",
        "    x.setposition(factor, 0) \n",
        "    x.seth(0) \n",
        "    x.pendown() \n",
        "  \n",
        "    # Setting the colour of the plotting pen to red \n",
        "    x.pencolor(\"red\") \n",
        "  \n",
        "    # Fibonacci Spiral Plot \n",
        "    x.left(90) \n",
        "    for i in range(n): \n",
        "        #print(b) \n",
        "        fdwd = math.pi * b * factor / 2\n",
        "        fdwd /= 90\n",
        "        for j in range(90): \n",
        "            x.forward(fdwd) \n",
        "            x.left(1) \n",
        "        temp = a \n",
        "        a = b \n",
        "        b = temp + b \n",
        "  \n",
        "  \n",
        "# Here 'factor' signifies the multiplicative  \n",
        "# factor which expands or shrinks the scale \n",
        "# of the plot by a certain factor. \n",
        "factor = 1\n",
        "  \n",
        "# Taking Input for the number of  \n",
        "# Iterations our Algorithm will run \n",
        "n = int(input('Enter the number of iterations (must be > 1): ')) \n",
        "  \n",
        "# Plotting the Fibonacci Spiral Fractal  \n",
        "# and printing the corresponding Fibonacci Number \n",
        "if n > 0: \n",
        "    print(\"Fibonacci series for\", n, \"elements :\") \n",
        "    x = turtle.Turtle() \n",
        "    x.speed(100) \n",
        "    fiboPlot(n) \n",
        "    turtle.done() \n",
        "else: \n",
        "    print(\"Number of iterations must be > 0\")"
      ],
      "execution_count": null,
      "outputs": []
    }
  ]
}